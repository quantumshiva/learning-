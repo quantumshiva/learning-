{
  "nbformat": 4,
  "nbformat_minor": 0,
  "metadata": {
    "colab": {
      "provenance": [],
      "collapsed_sections": [],
      "authorship_tag": "ABX9TyMgQAPPWVVh40alXz5wqyLx",
      "include_colab_link": true
    },
    "kernelspec": {
      "name": "python3",
      "display_name": "Python 3"
    },
    "language_info": {
      "name": "python"
    }
  },
  "cells": [
    {
      "cell_type": "markdown",
      "metadata": {
        "id": "view-in-github",
        "colab_type": "text"
      },
      "source": [
        "<a href=\"https://colab.research.google.com/github/quantumshiva/learning-/blob/main/submission.ipynb\" target=\"_parent\"><img src=\"https://colab.research.google.com/assets/colab-badge.svg\" alt=\"Open In Colab\"/></a>"
      ]
    },
    {
      "cell_type": "code",
      "execution_count": 1,
      "metadata": {
        "colab": {
          "base_uri": "https://localhost:8080/"
        },
        "id": "tOdIKuW_TvoV",
        "outputId": "02fc44d3-b0cd-46f5-d879-3dc026f1b8fc"
      },
      "outputs": [
        {
          "output_type": "stream",
          "name": "stdout",
          "text": [
            "5 3\n",
            "2 5\n",
            "2 3\n",
            "1 5\n",
            "5\n"
          ]
        }
      ],
      "source": [
        "n, q = [int(x) for x in input().split()]\n",
        "a = [0]*(n+5)\n",
        "while(q>0):\n",
        "   l,r = [int(x) for x in input().split()]\n",
        "   a[l]+=1\n",
        "   a[r+1]-=1\n",
        "   q-=1\n",
        "summ=0\n",
        "ans=0\n",
        "for i in range(n+5):\n",
        "   summ+=a[i]\n",
        "   if(summ!=0):\n",
        "       ans+=1\n",
        "print(ans)"
      ]
    },
    {
      "cell_type": "code",
      "source": [
        "t = int(input())\n",
        "while(t>0):\n",
        "   s, p = [x for x in input().split()]\n",
        "   p = int(p)\n",
        "   n = len(s)\n",
        "   val = [0]*(n+1)\n",
        "   for i in range(n):\n",
        "       val[i+1]=(ord(s[i])-ord('a')+1)\n",
        "   for i in range(n):\n",
        "       val[i+1]+=val[i]\n",
        "   ans = 0\n",
        "   summ = 0\n",
        "   q = 1\n",
        "   mod = 1000000007\n",
        "   for i in range(n):\n",
        "       q *= p\n",
        "       q %= mod\n",
        "       summ += val[n-i] - val[i]\n",
        "       ans += summ*q\n",
        "       ans %= mod\n",
        "       summ %= mod\n",
        "   print(ans)\n",
        "   t-=1"
      ],
      "metadata": {
        "colab": {
          "base_uri": "https://localhost:8080/"
        },
        "id": "tzje3RnwUf0Y",
        "outputId": "129af4a9-37da-47af-aab6-3a9d5528fef4"
      },
      "execution_count": 2,
      "outputs": [
        {
          "output_type": "stream",
          "name": "stdout",
          "text": [
            "2\n",
            "dfgh 4\n",
            "9540\n",
            "fgkh 5\n",
            "27660\n"
          ]
        }
      ]
    },
    {
      "cell_type": "code",
      "source": [
        "def findProductSum(A, N):\n",
        "   ans = 0\n",
        "   Sum = 0\n",
        "   Mod = 1000000007\n",
        "   for i in range(N):\n",
        "       ans += (Sum * A[i]) % Mod\n",
        "       ans %= Mod\n",
        "       Sum += A[i]\n",
        "       Sum %= Mod\n",
        "\n",
        "   return ans\n",
        "\n",
        "n = int(input())\n",
        "arr =  [int(x) for x in input().split()]\n",
        "print(findProductSum(arr, n))\n"
      ],
      "metadata": {
        "colab": {
          "base_uri": "https://localhost:8080/"
        },
        "id": "ua3FX-5EVK-N",
        "outputId": "3a79b5d6-e1d6-4a0e-e0d7-f3e6ee4878ce"
      },
      "execution_count": 3,
      "outputs": [
        {
          "output_type": "stream",
          "name": "stdout",
          "text": [
            "3\n",
            "1 2 1\n",
            "5\n"
          ]
        }
      ]
    }
  ]
}